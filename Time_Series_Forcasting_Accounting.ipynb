{
  "nbformat": 4,
  "nbformat_minor": 0,
  "metadata": {
    "colab": {
      "provenance": []
    },
    "kernelspec": {
      "name": "python3",
      "display_name": "Python 3"
    },
    "language_info": {
      "name": "python"
    },
    "accelerator": "GPU",
    "gpuClass": "standard"
  },
  "cells": [
    {
      "cell_type": "markdown",
      "source": [
        "# **Trading trends using time series anaylsis:**\n",
        "\n",
        "**About the project:**\n",
        "It is Crucial to predict stock price movements for investors and finance companies. In our project we will be using some prediction models to aid in stock prediction using **NASDAQ** Data.\n",
        "\n",
        "\n",
        "Financial trading is a complex task. The trading decision to buy and sell requires a great deal of knowledge and the capability to make the right decision at the right time.\n",
        "\n",
        "This research will explore various machine learning algorithms equations including deep learning for this task.\n"
      ],
      "metadata": {
        "id": "WLNudibRZdBf"
      }
    },
    {
      "cell_type": "markdown",
      "source": [
        "About the Data:\n",
        "\n",
        "**Market:** NASDAQ\n",
        "\n",
        "**Companies:** Applied Materials, Inc. (AMAT), Abbott Laboratories (ABT) and more\n",
        "\n",
        "**Time Span Covered:** 1980-2022 (42 years)\n",
        "\n",
        "**Data points per Company:** 10,000\n",
        "\n",
        "**Total Data Points:** 07 Million\n",
        "\n",
        "**Data Source:** https://www.kaggle.com/datasets/paultimothymooney/stock-market-data\n",
        "\n"
      ],
      "metadata": {
        "id": "NpitK2fzc-BK"
      }
    },
    {
      "cell_type": "markdown",
      "source": [
        "# Installing relevant modules"
      ],
      "metadata": {
        "id": "OE0o_6Ebiu8U"
      }
    },
    {
      "cell_type": "code",
      "source": [
        "!pip install numpy scipy patsy pandas\n",
        "!pip install pmdarima\n",
        "!pip install statsmodels"
      ],
      "metadata": {
        "colab": {
          "base_uri": "https://localhost:8080/"
        },
        "id": "sfeECrMUi2bR",
        "outputId": "3cce6722-7d36-414d-d836-d1dfc07fc06e"
      },
      "execution_count": null,
      "outputs": [
        {
          "output_type": "stream",
          "name": "stdout",
          "text": [
            "Looking in indexes: https://pypi.org/simple, https://us-python.pkg.dev/colab-wheels/public/simple/\n",
            "Requirement already satisfied: numpy in /usr/local/lib/python3.8/dist-packages (1.21.6)\n",
            "Requirement already satisfied: scipy in /usr/local/lib/python3.8/dist-packages (1.7.3)\n",
            "Requirement already satisfied: patsy in /usr/local/lib/python3.8/dist-packages (0.5.3)\n",
            "Requirement already satisfied: pandas in /usr/local/lib/python3.8/dist-packages (1.3.5)\n",
            "Requirement already satisfied: six in /usr/local/lib/python3.8/dist-packages (from patsy) (1.15.0)\n",
            "Requirement already satisfied: pytz>=2017.3 in /usr/local/lib/python3.8/dist-packages (from pandas) (2022.6)\n",
            "Requirement already satisfied: python-dateutil>=2.7.3 in /usr/local/lib/python3.8/dist-packages (from pandas) (2.8.2)\n",
            "Looking in indexes: https://pypi.org/simple, https://us-python.pkg.dev/colab-wheels/public/simple/\n",
            "Requirement already satisfied: pmdarima in /usr/local/lib/python3.8/dist-packages (2.0.2)\n",
            "Requirement already satisfied: numpy>=1.21.2 in /usr/local/lib/python3.8/dist-packages (from pmdarima) (1.21.6)\n",
            "Requirement already satisfied: scikit-learn>=0.22 in /usr/local/lib/python3.8/dist-packages (from pmdarima) (1.0.2)\n",
            "Requirement already satisfied: joblib>=0.11 in /usr/local/lib/python3.8/dist-packages (from pmdarima) (1.2.0)\n",
            "Requirement already satisfied: scipy>=1.3.2 in /usr/local/lib/python3.8/dist-packages (from pmdarima) (1.7.3)\n",
            "Requirement already satisfied: setuptools!=50.0.0,>=38.6.0 in /usr/local/lib/python3.8/dist-packages (from pmdarima) (57.4.0)\n",
            "Requirement already satisfied: statsmodels>=0.13.2 in /usr/local/lib/python3.8/dist-packages (from pmdarima) (0.13.5)\n",
            "Requirement already satisfied: pandas>=0.19 in /usr/local/lib/python3.8/dist-packages (from pmdarima) (1.3.5)\n",
            "Requirement already satisfied: urllib3 in /usr/local/lib/python3.8/dist-packages (from pmdarima) (1.24.3)\n",
            "Requirement already satisfied: Cython!=0.29.18,!=0.29.31,>=0.29 in /usr/local/lib/python3.8/dist-packages (from pmdarima) (0.29.32)\n",
            "Requirement already satisfied: pytz>=2017.3 in /usr/local/lib/python3.8/dist-packages (from pandas>=0.19->pmdarima) (2022.6)\n",
            "Requirement already satisfied: python-dateutil>=2.7.3 in /usr/local/lib/python3.8/dist-packages (from pandas>=0.19->pmdarima) (2.8.2)\n",
            "Requirement already satisfied: six>=1.5 in /usr/local/lib/python3.8/dist-packages (from python-dateutil>=2.7.3->pandas>=0.19->pmdarima) (1.15.0)\n",
            "Requirement already satisfied: threadpoolctl>=2.0.0 in /usr/local/lib/python3.8/dist-packages (from scikit-learn>=0.22->pmdarima) (3.1.0)\n",
            "Requirement already satisfied: packaging>=21.3 in /usr/local/lib/python3.8/dist-packages (from statsmodels>=0.13.2->pmdarima) (21.3)\n",
            "Requirement already satisfied: patsy>=0.5.2 in /usr/local/lib/python3.8/dist-packages (from statsmodels>=0.13.2->pmdarima) (0.5.3)\n",
            "Requirement already satisfied: pyparsing!=3.0.5,>=2.0.2 in /usr/local/lib/python3.8/dist-packages (from packaging>=21.3->statsmodels>=0.13.2->pmdarima) (3.0.9)\n",
            "Looking in indexes: https://pypi.org/simple, https://us-python.pkg.dev/colab-wheels/public/simple/\n",
            "Requirement already satisfied: statsmodels in /usr/local/lib/python3.8/dist-packages (0.13.5)\n",
            "Requirement already satisfied: pandas>=0.25 in /usr/local/lib/python3.8/dist-packages (from statsmodels) (1.3.5)\n",
            "Requirement already satisfied: scipy>=1.3 in /usr/local/lib/python3.8/dist-packages (from statsmodels) (1.7.3)\n",
            "Requirement already satisfied: patsy>=0.5.2 in /usr/local/lib/python3.8/dist-packages (from statsmodels) (0.5.3)\n",
            "Requirement already satisfied: packaging>=21.3 in /usr/local/lib/python3.8/dist-packages (from statsmodels) (21.3)\n",
            "Requirement already satisfied: numpy>=1.17 in /usr/local/lib/python3.8/dist-packages (from statsmodels) (1.21.6)\n",
            "Requirement already satisfied: pyparsing!=3.0.5,>=2.0.2 in /usr/local/lib/python3.8/dist-packages (from packaging>=21.3->statsmodels) (3.0.9)\n",
            "Requirement already satisfied: pytz>=2017.3 in /usr/local/lib/python3.8/dist-packages (from pandas>=0.25->statsmodels) (2022.6)\n",
            "Requirement already satisfied: python-dateutil>=2.7.3 in /usr/local/lib/python3.8/dist-packages (from pandas>=0.25->statsmodels) (2.8.2)\n",
            "Requirement already satisfied: six in /usr/local/lib/python3.8/dist-packages (from patsy>=0.5.2->statsmodels) (1.15.0)\n"
          ]
        }
      ]
    },
    {
      "cell_type": "markdown",
      "source": [
        "# Importing Libraries"
      ],
      "metadata": {
        "id": "8c9eAUtZjPLu"
      }
    },
    {
      "cell_type": "code",
      "source": [
        "import numpy as np\n",
        "import tensorflow as tf\n",
        "from sklearn.metrics import mean_squared_error\n",
        "import pandas as pd\n",
        "import matplotlib.pyplot as plt\n",
        "plt.style.use('seaborn')\n",
        "from statsmodels.tsa.stattools import adfuller\n",
        "from pmdarima import auto_arima\n",
        "from numpy.random import seed\n",
        "seed(1)\n",
        "tf.random.set_seed(2)"
      ],
      "metadata": {
        "id": "yM0MTXFai6WR"
      },
      "execution_count": null,
      "outputs": []
    },
    {
      "cell_type": "markdown",
      "source": [
        "# Importing Data"
      ],
      "metadata": {
        "id": "zq9CBLdulPN8"
      }
    },
    {
      "cell_type": "code",
      "source": [
        "df=pd.read_csv('ABT.csv',parse_dates=True)\n",
        "df=df.dropna()\n",
        "print('Shape of data',df.shape)\n",
        "df.head()"
      ],
      "metadata": {
        "colab": {
          "base_uri": "https://localhost:8080/",
          "height": 224
        },
        "id": "H9fhzTqXlqWs",
        "outputId": "9336f535-09ab-4fa7-b611-81de29662a45"
      },
      "execution_count": null,
      "outputs": [
        {
          "output_type": "stream",
          "name": "stdout",
          "text": [
            "Shape of data (10778, 7)\n"
          ]
        },
        {
          "output_type": "execute_result",
          "data": {
            "text/plain": [
              "         Date       Low  Open   Volume      High     Close  Adjusted Close\n",
              "0  17-03-1980  0.497999   0.0  7513463  0.512028  0.501506        0.205948\n",
              "1  18-03-1980  0.494492   0.0  5303621  0.512028  0.505013        0.207389\n",
              "2  19-03-1980  0.503260   0.0  2523497  0.515535  0.512028        0.210269\n",
              "3  20-03-1980  0.499753   0.0  4654925  0.513781  0.499753        0.205229\n",
              "4  21-03-1980  0.499753   0.0  1333034  0.506767  0.505013        0.207389"
            ],
            "text/html": [
              "\n",
              "  <div id=\"df-84b95f6b-f899-471e-a7b3-438f066b502c\">\n",
              "    <div class=\"colab-df-container\">\n",
              "      <div>\n",
              "<style scoped>\n",
              "    .dataframe tbody tr th:only-of-type {\n",
              "        vertical-align: middle;\n",
              "    }\n",
              "\n",
              "    .dataframe tbody tr th {\n",
              "        vertical-align: top;\n",
              "    }\n",
              "\n",
              "    .dataframe thead th {\n",
              "        text-align: right;\n",
              "    }\n",
              "</style>\n",
              "<table border=\"1\" class=\"dataframe\">\n",
              "  <thead>\n",
              "    <tr style=\"text-align: right;\">\n",
              "      <th></th>\n",
              "      <th>Date</th>\n",
              "      <th>Low</th>\n",
              "      <th>Open</th>\n",
              "      <th>Volume</th>\n",
              "      <th>High</th>\n",
              "      <th>Close</th>\n",
              "      <th>Adjusted Close</th>\n",
              "    </tr>\n",
              "  </thead>\n",
              "  <tbody>\n",
              "    <tr>\n",
              "      <th>0</th>\n",
              "      <td>17-03-1980</td>\n",
              "      <td>0.497999</td>\n",
              "      <td>0.0</td>\n",
              "      <td>7513463</td>\n",
              "      <td>0.512028</td>\n",
              "      <td>0.501506</td>\n",
              "      <td>0.205948</td>\n",
              "    </tr>\n",
              "    <tr>\n",
              "      <th>1</th>\n",
              "      <td>18-03-1980</td>\n",
              "      <td>0.494492</td>\n",
              "      <td>0.0</td>\n",
              "      <td>5303621</td>\n",
              "      <td>0.512028</td>\n",
              "      <td>0.505013</td>\n",
              "      <td>0.207389</td>\n",
              "    </tr>\n",
              "    <tr>\n",
              "      <th>2</th>\n",
              "      <td>19-03-1980</td>\n",
              "      <td>0.503260</td>\n",
              "      <td>0.0</td>\n",
              "      <td>2523497</td>\n",
              "      <td>0.515535</td>\n",
              "      <td>0.512028</td>\n",
              "      <td>0.210269</td>\n",
              "    </tr>\n",
              "    <tr>\n",
              "      <th>3</th>\n",
              "      <td>20-03-1980</td>\n",
              "      <td>0.499753</td>\n",
              "      <td>0.0</td>\n",
              "      <td>4654925</td>\n",
              "      <td>0.513781</td>\n",
              "      <td>0.499753</td>\n",
              "      <td>0.205229</td>\n",
              "    </tr>\n",
              "    <tr>\n",
              "      <th>4</th>\n",
              "      <td>21-03-1980</td>\n",
              "      <td>0.499753</td>\n",
              "      <td>0.0</td>\n",
              "      <td>1333034</td>\n",
              "      <td>0.506767</td>\n",
              "      <td>0.505013</td>\n",
              "      <td>0.207389</td>\n",
              "    </tr>\n",
              "  </tbody>\n",
              "</table>\n",
              "</div>\n",
              "      <button class=\"colab-df-convert\" onclick=\"convertToInteractive('df-84b95f6b-f899-471e-a7b3-438f066b502c')\"\n",
              "              title=\"Convert this dataframe to an interactive table.\"\n",
              "              style=\"display:none;\">\n",
              "        \n",
              "  <svg xmlns=\"http://www.w3.org/2000/svg\" height=\"24px\"viewBox=\"0 0 24 24\"\n",
              "       width=\"24px\">\n",
              "    <path d=\"M0 0h24v24H0V0z\" fill=\"none\"/>\n",
              "    <path d=\"M18.56 5.44l.94 2.06.94-2.06 2.06-.94-2.06-.94-.94-2.06-.94 2.06-2.06.94zm-11 1L8.5 8.5l.94-2.06 2.06-.94-2.06-.94L8.5 2.5l-.94 2.06-2.06.94zm10 10l.94 2.06.94-2.06 2.06-.94-2.06-.94-.94-2.06-.94 2.06-2.06.94z\"/><path d=\"M17.41 7.96l-1.37-1.37c-.4-.4-.92-.59-1.43-.59-.52 0-1.04.2-1.43.59L10.3 9.45l-7.72 7.72c-.78.78-.78 2.05 0 2.83L4 21.41c.39.39.9.59 1.41.59.51 0 1.02-.2 1.41-.59l7.78-7.78 2.81-2.81c.8-.78.8-2.07 0-2.86zM5.41 20L4 18.59l7.72-7.72 1.47 1.35L5.41 20z\"/>\n",
              "  </svg>\n",
              "      </button>\n",
              "      \n",
              "  <style>\n",
              "    .colab-df-container {\n",
              "      display:flex;\n",
              "      flex-wrap:wrap;\n",
              "      gap: 12px;\n",
              "    }\n",
              "\n",
              "    .colab-df-convert {\n",
              "      background-color: #E8F0FE;\n",
              "      border: none;\n",
              "      border-radius: 50%;\n",
              "      cursor: pointer;\n",
              "      display: none;\n",
              "      fill: #1967D2;\n",
              "      height: 32px;\n",
              "      padding: 0 0 0 0;\n",
              "      width: 32px;\n",
              "    }\n",
              "\n",
              "    .colab-df-convert:hover {\n",
              "      background-color: #E2EBFA;\n",
              "      box-shadow: 0px 1px 2px rgba(60, 64, 67, 0.3), 0px 1px 3px 1px rgba(60, 64, 67, 0.15);\n",
              "      fill: #174EA6;\n",
              "    }\n",
              "\n",
              "    [theme=dark] .colab-df-convert {\n",
              "      background-color: #3B4455;\n",
              "      fill: #D2E3FC;\n",
              "    }\n",
              "\n",
              "    [theme=dark] .colab-df-convert:hover {\n",
              "      background-color: #434B5C;\n",
              "      box-shadow: 0px 1px 3px 1px rgba(0, 0, 0, 0.15);\n",
              "      filter: drop-shadow(0px 1px 2px rgba(0, 0, 0, 0.3));\n",
              "      fill: #FFFFFF;\n",
              "    }\n",
              "  </style>\n",
              "\n",
              "      <script>\n",
              "        const buttonEl =\n",
              "          document.querySelector('#df-84b95f6b-f899-471e-a7b3-438f066b502c button.colab-df-convert');\n",
              "        buttonEl.style.display =\n",
              "          google.colab.kernel.accessAllowed ? 'block' : 'none';\n",
              "\n",
              "        async function convertToInteractive(key) {\n",
              "          const element = document.querySelector('#df-84b95f6b-f899-471e-a7b3-438f066b502c');\n",
              "          const dataTable =\n",
              "            await google.colab.kernel.invokeFunction('convertToInteractive',\n",
              "                                                     [key], {});\n",
              "          if (!dataTable) return;\n",
              "\n",
              "          const docLinkHtml = 'Like what you see? Visit the ' +\n",
              "            '<a target=\"_blank\" href=https://colab.research.google.com/notebooks/data_table.ipynb>data table notebook</a>'\n",
              "            + ' to learn more about interactive tables.';\n",
              "          element.innerHTML = '';\n",
              "          dataTable['output_type'] = 'display_data';\n",
              "          await google.colab.output.renderOutput(dataTable, element);\n",
              "          const docLink = document.createElement('div');\n",
              "          docLink.innerHTML = docLinkHtml;\n",
              "          element.appendChild(docLink);\n",
              "        }\n",
              "      </script>\n",
              "    </div>\n",
              "  </div>\n",
              "  "
            ]
          },
          "metadata": {},
          "execution_count": 14
        }
      ]
    },
    {
      "cell_type": "markdown",
      "source": [
        "# Data Processing"
      ],
      "metadata": {
        "id": "-ixmPU4Mks55"
      }
    },
    {
      "cell_type": "code",
      "source": [
        "df['Close'].plot(figsize=(12,5))"
      ],
      "metadata": {
        "colab": {
          "base_uri": "https://localhost:8080/",
          "height": 337
        },
        "id": "WXZ4bxGckvyB",
        "outputId": "cb29860f-fd55-4632-d0ae-8ede2709532d"
      },
      "execution_count": null,
      "outputs": [
        {
          "output_type": "execute_result",
          "data": {
            "text/plain": [
              "<matplotlib.axes._subplots.AxesSubplot at 0x7f300303f640>"
            ]
          },
          "metadata": {},
          "execution_count": 15
        },
        {
          "output_type": "display_data",
          "data": {
            "text/plain": [
              "<Figure size 864x360 with 1 Axes>"
            ],
            "image/png": "[encoded data removed]"
          },
          "metadata": {}
        }
      ]
    },
    {
      "cell_type": "code",
      "source": [
        "def test_stationarity(timeseries):\n",
        "    #Determing rolling statistics\n",
        "    rolmean = timeseries.rolling(12).mean()\n",
        "    rolstd = timeseries.rolling(12).std()\n",
        "    #Plot rolling statistics:\n",
        "    plt.plot(timeseries, color='blue',label='Original')\n",
        "    plt.plot(rolmean, color='red', label='Rolling Mean')\n",
        "    plt.plot(rolstd, color='black', label = 'Rolling Std')\n",
        "    plt.legend(loc='best')\n",
        "    plt.title('Rolling Mean and Standard Deviation')\n",
        "    plt.show(block=False)\n",
        "    print(\"Results of dickey fuller test\")\n",
        "    adft = adfuller(timeseries,autolag='AIC')\n",
        "    # output for dft will give us without defining what the values are.\n",
        "    #hence we manually write what values does it explains using a for loop\n",
        "    output = pd.Series(adft[0:4],index=['Test Statistics','p-value','No. of lags used','Number of observations used'])\n",
        "    for key,values in adft[4].items():\n",
        "        output['critical value (%s)'%key] =  values\n",
        "    print(output)\n",
        "test_stationarity(df['Close'])"
      ],
      "metadata": {
        "colab": {
          "base_uri": "https://localhost:8080/",
          "height": 518
        },
        "id": "_qyJOLLzkwCB",
        "outputId": "5bf42b8a-7b13-463d-b693-1a817af6c957"
      },
      "execution_count": null,
      "outputs": [
        {
          "output_type": "display_data",
          "data": {
            "text/plain": [
              "<Figure size 576x396 with 1 Axes>"
            ],
            "image/png": "[encoded data removed]"
          },
          "metadata": {}
        },
        {
          "output_type": "stream",
          "name": "stdout",
          "text": [
            "Results of dickey fuller test\n",
            "Test Statistics                    1.765554\n",
            "p-value                            0.998278\n",
            "No. of lags used                  37.000000\n",
            "Number of observations used    10740.000000\n",
            "critical value (1%)               -3.430959\n",
            "critical value (5%)               -2.861809\n",
            "critical value (10%)              -2.566913\n",
            "dtype: float64\n"
          ]
        }
      ]
    },
    {
      "cell_type": "code",
      "source": [
        "adf_test(df['Close'])"
      ],
      "metadata": {
        "colab": {
          "base_uri": "https://localhost:8080/"
        },
        "id": "SOB24CVck9-Z",
        "outputId": "629884c5-4b88-464b-abd4-8a2fd141acf9"
      },
      "execution_count": null,
      "outputs": [
        {
          "output_type": "stream",
          "name": "stdout",
          "text": [
            "1. ADF :  1.7655537724149737\n",
            "2. P-Value :  0.9982781949194999\n",
            "3. Num Of Lags :  37\n",
            "4. Num Of Observations Used For ADF Regression and Critical Values Calculation : 10740\n",
            "5. Critical Values :\n",
            "\t 1% :  -3.4309590189600474\n",
            "\t 5% :  -2.8618091521950015\n",
            "\t 10% :  -2.5669132645759425\n"
          ]
        }
      ]
    },
    {
      "cell_type": "code",
      "source": [
        "from pylab import rcParams\n",
        "rcParams['figure.figsize'] = 10, 6\n",
        "df_log = np.log(df['Close'])\n",
        "moving_avg = df_log.rolling(12).mean()\n",
        "std_dev = df_log.rolling(12).std()\n",
        "plt.legend(loc='best')\n",
        "plt.title('Moving Average')\n",
        "plt.plot(std_dev, color =\"black\", label = \"Standard Deviation\")\n",
        "plt.plot(moving_avg, color=\"red\", label = \"Mean\")\n",
        "plt.legend()\n",
        "plt.show()"
      ],
      "metadata": {
        "colab": {
          "base_uri": "https://localhost:8080/",
          "height": 406
        },
        "id": "Hih0wha9k_6N",
        "outputId": "1bf0186b-e611-4dfd-97fa-d784d67835cf"
      },
      "execution_count": null,
      "outputs": [
        {
          "output_type": "stream",
          "name": "stderr",
          "text": [
            "WARNING:matplotlib.legend:No handles with labels found to put in legend.\n"
          ]
        },
        {
          "output_type": "display_data",
          "data": {
            "text/plain": [
              "<Figure size 720x432 with 1 Axes>"
            ],
            "image/png": "[encoded data removed]"
          },
          "metadata": {}
        }
      ]
    },
    {
      "cell_type": "markdown",
      "source": [
        "# Splitting the Data and Training the Model"
      ],
      "metadata": {
        "id": "WbrdDLx7nj4B"
      }
    },
    {
      "cell_type": "code",
      "source": [
        "print(df.shape)\n",
        "train=df.iloc[:-30]\n",
        "test=df.iloc[-30:]\n",
        "print(train.shape,test.shape)\n",
        "print(test.iloc[0],test.iloc[-1])"
      ],
      "metadata": {
        "colab": {
          "base_uri": "https://localhost:8080/"
        },
        "id": "k0wE-_kXnmZQ",
        "outputId": "69d189f5-6563-4010-815a-96e543b2bcef"
      },
      "execution_count": null,
      "outputs": [
        {
          "output_type": "stream",
          "name": "stdout",
          "text": [
            "(10778, 7)\n",
            "(10748, 7) (30, 7)\n",
            "Date              31-10-2022\n",
            "Low                98.150002\n",
            "Open               99.129997\n",
            "Volume               5885600\n",
            "High                    99.5\n",
            "Close              98.940002\n",
            "Adjusted Close     98.940002\n",
            "Name: 10748, dtype: object Date              12-12-2022\n",
            "Low               107.730003\n",
            "Open              107.730003\n",
            "Volume               1279071\n",
            "High              108.809998\n",
            "Close                 108.68\n",
            "Adjusted Close        108.68\n",
            "Name: 10777, dtype: object\n"
          ]
        }
      ]
    },
    {
      "cell_type": "markdown",
      "source": [
        "# **Arima Model**"
      ],
      "metadata": {
        "id": "zDLKaXkudiie"
      }
    },
    {
      "cell_type": "code",
      "source": [
        "from statsmodels.tsa.arima.model import ARIMA\n",
        "model=ARIMA(train['Close'],order=(1,0,5))\n",
        "model=model.fit()\n",
        "model.summary()"
      ],
      "metadata": {
        "colab": {
          "base_uri": "https://localhost:8080/",
          "height": 537
        },
        "id": "Jf1NgUBRn4fl",
        "outputId": "52944db4-cc05-4c57-9a90-c3a85c6b5ff3"
      },
      "execution_count": null,
      "outputs": [
        {
          "output_type": "execute_result",
          "data": {
            "text/plain": [
              "<class 'statsmodels.iolib.summary.Summary'>\n",
              "\"\"\"\n",
              "                               SARIMAX Results                                \n",
              "==============================================================================\n",
              "Dep. Variable:                  Close   No. Observations:                10748\n",
              "Model:                 ARIMA(1, 0, 5)   Log Likelihood               -9703.403\n",
              "Date:                Sun, 25 Dec 2022   AIC                          19422.807\n",
              "Time:                        18:51:57   BIC                          19481.066\n",
              "Sample:                             0   HQIC                         19442.457\n",
              "                              - 10748                                         \n",
              "Covariance Type:                  opg                                         \n",
              "==============================================================================\n",
              "                 coef    std err          z      P>|z|      [0.025      0.975]\n",
              "------------------------------------------------------------------------------\n",
              "const         25.4574    106.898      0.238      0.812    -184.059     234.973\n",
              "ar.L1          0.9999      0.000   7777.743      0.000       1.000       1.000\n",
              "ma.L1         -0.0703      0.003    -24.644      0.000      -0.076      -0.065\n",
              "ma.L2          0.0111      0.003      3.869      0.000       0.005       0.017\n",
              "ma.L3         -0.0503      0.003    -16.678      0.000      -0.056      -0.044\n",
              "ma.L4         -0.0049      0.003     -1.598      0.110      -0.011       0.001\n",
              "ma.L5         -0.0015      0.003     -0.525      0.599      -0.007       0.004\n",
              "sigma2         0.3559      0.001    315.791      0.000       0.354       0.358\n",
              "===================================================================================\n",
              "Ljung-Box (L1) (Q):                   0.00   Jarque-Bera (JB):            639440.85\n",
              "Prob(Q):                              0.98   Prob(JB):                         0.00\n",
              "Heteroskedasticity (H):             228.31   Skew:                            -0.75\n",
              "Prob(H) (two-sided):                  0.00   Kurtosis:                        40.76\n",
              "===================================================================================\n",
              "\n",
              "Warnings:\n",
              "[1] Covariance matrix calculated using the outer product of gradients (complex-step).\n",
              "\"\"\""
            ],
            "text/html": [
              "<table class=\"simpletable\">\n",
              "<caption>SARIMAX Results</caption>\n",
              "<tr>\n",
              "  <th>Dep. Variable:</th>         <td>Close</td>      <th>  No. Observations:  </th>   <td>10748</td>  \n",
              "</tr>\n",
              "<tr>\n",
              "  <th>Model:</th>            <td>ARIMA(1, 0, 5)</td>  <th>  Log Likelihood     </th> <td>-9703.403</td>\n",
              "</tr>\n",
              "<tr>\n",
              "  <th>Date:</th>            <td>Sun, 25 Dec 2022</td> <th>  AIC                </th> <td>19422.807</td>\n",
              "</tr>\n",
              "<tr>\n",
              "  <th>Time:</th>                <td>18:51:57</td>     <th>  BIC                </th> <td>19481.066</td>\n",
              "</tr>\n",
              "<tr>\n",
              "  <th>Sample:</th>                  <td>0</td>        <th>  HQIC               </th> <td>19442.457</td>\n",
              "</tr>\n",
              "<tr>\n",
              "  <th></th>                     <td> - 10748</td>     <th>                     </th>     <td> </td>    \n",
              "</tr>\n",
              "<tr>\n",
              "  <th>Covariance Type:</th>        <td>opg</td>       <th>                     </th>     <td> </td>    \n",
              "</tr>\n",
              "</table>\n",
              "<table class=\"simpletable\">\n",
              "<tr>\n",
              "     <td></td>       <th>coef</th>     <th>std err</th>      <th>z</th>      <th>P>|z|</th>  <th>[0.025</th>    <th>0.975]</th>  \n",
              "</tr>\n",
              "<tr>\n",
              "  <th>const</th>  <td>   25.4574</td> <td>  106.898</td> <td>    0.238</td> <td> 0.812</td> <td> -184.059</td> <td>  234.973</td>\n",
              "</tr>\n",
              "<tr>\n",
              "  <th>ar.L1</th>  <td>    0.9999</td> <td>    0.000</td> <td> 7777.743</td> <td> 0.000</td> <td>    1.000</td> <td>    1.000</td>\n",
              "</tr>\n",
              "<tr>\n",
              "  <th>ma.L1</th>  <td>   -0.0703</td> <td>    0.003</td> <td>  -24.644</td> <td> 0.000</td> <td>   -0.076</td> <td>   -0.065</td>\n",
              "</tr>\n",
              "<tr>\n",
              "  <th>ma.L2</th>  <td>    0.0111</td> <td>    0.003</td> <td>    3.869</td> <td> 0.000</td> <td>    0.005</td> <td>    0.017</td>\n",
              "</tr>\n",
              "<tr>\n",
              "  <th>ma.L3</th>  <td>   -0.0503</td> <td>    0.003</td> <td>  -16.678</td> <td> 0.000</td> <td>   -0.056</td> <td>   -0.044</td>\n",
              "</tr>\n",
              "<tr>\n",
              "  <th>ma.L4</th>  <td>   -0.0049</td> <td>    0.003</td> <td>   -1.598</td> <td> 0.110</td> <td>   -0.011</td> <td>    0.001</td>\n",
              "</tr>\n",
              "<tr>\n",
              "  <th>ma.L5</th>  <td>   -0.0015</td> <td>    0.003</td> <td>   -0.525</td> <td> 0.599</td> <td>   -0.007</td> <td>    0.004</td>\n",
              "</tr>\n",
              "<tr>\n",
              "  <th>sigma2</th> <td>    0.3559</td> <td>    0.001</td> <td>  315.791</td> <td> 0.000</td> <td>    0.354</td> <td>    0.358</td>\n",
              "</tr>\n",
              "</table>\n",
              "<table class=\"simpletable\">\n",
              "<tr>\n",
              "  <th>Ljung-Box (L1) (Q):</th>      <td>0.00</td>  <th>  Jarque-Bera (JB):  </th> <td>639440.85</td>\n",
              "</tr>\n",
              "<tr>\n",
              "  <th>Prob(Q):</th>                 <td>0.98</td>  <th>  Prob(JB):          </th>   <td>0.00</td>   \n",
              "</tr>\n",
              "<tr>\n",
              "  <th>Heteroskedasticity (H):</th> <td>228.31</td> <th>  Skew:              </th>   <td>-0.75</td>  \n",
              "</tr>\n",
              "<tr>\n",
              "  <th>Prob(H) (two-sided):</th>     <td>0.00</td>  <th>  Kurtosis:          </th>   <td>40.76</td>  \n",
              "</tr>\n",
              "</table><br/><br/>Warnings:<br/>[1] Covariance matrix calculated using the outer product of gradients (complex-step)."
            ]
          },
          "metadata": {},
          "execution_count": 27
        }
      ]
    },
    {
      "cell_type": "markdown",
      "source": [
        "# Making Predictions"
      ],
      "metadata": {
        "id": "ladcwOQkoM_n"
      }
    },
    {
      "cell_type": "code",
      "source": [
        "test"
      ],
      "metadata": {
        "colab": {
          "base_uri": "https://localhost:8080/",
          "height": 990
        },
        "id": "q9D8G4C6oe7L",
        "outputId": "85b0d78a-32d0-4265-8ab1-733f792271ed"
      },
      "execution_count": null,
      "outputs": [
        {
          "output_type": "execute_result",
          "data": {
            "text/plain": [
              "             Date         Low        Open    Volume        High       Close  \\\n",
              "10748  31-10-2022   98.150002   99.129997   5885600   99.500000   98.940002   \n",
              "10749  01-11-2022   98.639999   99.620003   5249400  100.320000   99.309998   \n",
              "10750  02-11-2022   98.019997   98.730003   5196700  101.230003   98.040001   \n",
              "10751  03-11-2022   95.349998   96.809998   4873400   97.010002   96.449997   \n",
              "10752  04-11-2022   96.150002   97.830002   4902800   98.230003   98.070000   \n",
              "10753  07-11-2022   98.129997   98.779999   4903700  100.040001   99.500000   \n",
              "10754  08-11-2022   98.949997   99.900002   5708200  100.260002   99.639999   \n",
              "10755  09-11-2022   99.250000   99.910004   5339600  101.269997   99.459999   \n",
              "10756  10-11-2022  102.139999  103.029999   5907400  104.440002  104.230003   \n",
              "10757  11-11-2022  103.930000  104.639999   7106900  105.910004  104.089996   \n",
              "10758  14-11-2022  101.989998  103.669998   5661600  104.309998  102.010002   \n",
              "10759  15-11-2022  102.379997  103.449997   5262900  104.480003  103.139999   \n",
              "10760  16-11-2022  103.260002  104.239998   3292800  105.300003  103.610001   \n",
              "10761  17-11-2022  101.550003  102.669998   3332900  103.089996  102.559998   \n",
              "10762  18-11-2022  102.940002  103.519997   3931800  104.190002  103.870003   \n",
              "10763  21-11-2022  103.669998  103.730003   4148800  104.900002  103.879997   \n",
              "10764  22-11-2022  102.870003  103.980003   4511700  105.000000  104.870003   \n",
              "10765  23-11-2022  104.400002  104.970001   4617500  106.470001  106.019997   \n",
              "10766  25-11-2022  106.510002  106.669998   2558100  107.349998  106.959999   \n",
              "10767  28-11-2022  105.129997  106.720001   4149700  107.750000  105.389999   \n",
              "10768  29-11-2022  104.480003  105.000000   4832300  105.379997  105.000000   \n",
              "10769  30-11-2022  103.440002  105.129997  12737300  107.699997  107.580002   \n",
              "10770  01-12-2022  107.349998  108.239998   5076200  108.650002  107.930000   \n",
              "10771  02-12-2022  106.199997  106.750000   4944100  108.139999  108.089996   \n",
              "10772  05-12-2022  105.059998  106.889999   4687100  107.059998  105.410004   \n",
              "10773  06-12-2022  103.129997  104.989998   4175700  105.410004  103.860001   \n",
              "10774  07-12-2022  104.019997  104.019997   3592400  105.489998  104.809998   \n",
              "10775  08-12-2022  104.230003  104.660004   4607700  107.089996  106.919998   \n",
              "10776  09-12-2022  106.449997  106.730003   5345400  108.480003  107.510002   \n",
              "10777  12-12-2022  107.730003  107.730003   1279071  108.809998  108.680000   \n",
              "\n",
              "       Adjusted Close  \n",
              "10748       98.940002  \n",
              "10749       99.309998  \n",
              "10750       98.040001  \n",
              "10751       96.449997  \n",
              "10752       98.070000  \n",
              "10753       99.500000  \n",
              "10754       99.639999  \n",
              "10755       99.459999  \n",
              "10756      104.230003  \n",
              "10757      104.089996  \n",
              "10758      102.010002  \n",
              "10759      103.139999  \n",
              "10760      103.610001  \n",
              "10761      102.559998  \n",
              "10762      103.870003  \n",
              "10763      103.879997  \n",
              "10764      104.870003  \n",
              "10765      106.019997  \n",
              "10766      106.959999  \n",
              "10767      105.389999  \n",
              "10768      105.000000  \n",
              "10769      107.580002  \n",
              "10770      107.930000  \n",
              "10771      108.089996  \n",
              "10772      105.410004  \n",
              "10773      103.860001  \n",
              "10774      104.809998  \n",
              "10775      106.919998  \n",
              "10776      107.510002  \n",
              "10777      108.680000  "
            ],
            "text/html": [
              "\n",
              "  <div id=\"df-cb101eab-9931-4ae6-82e5-b66571e1c7b8\">\n",
              "    <div class=\"colab-df-container\">\n",
              "      <div>\n",
              "<style scoped>\n",
              "    .dataframe tbody tr th:only-of-type {\n",
              "        vertical-align: middle;\n",
              "    }\n",
              "\n",
              "    .dataframe tbody tr th {\n",
              "        vertical-align: top;\n",
              "    }\n",
              "\n",
              "    .dataframe thead th {\n",
              "        text-align: right;\n",
              "    }\n",
              "</style>\n",
              "<table border=\"1\" class=\"dataframe\">\n",
              "  <thead>\n",
              "    <tr style=\"text-align: right;\">\n",
              "      <th></th>\n",
              "      <th>Date</th>\n",
              "      <th>Low</th>\n",
              "      <th>Open</th>\n",
              "      <th>Volume</th>\n",
              "      <th>High</th>\n",
              "      <th>Close</th>\n",
              "      <th>Adjusted Close</th>\n",
              "    </tr>\n",
              "  </thead>\n",
              "  <tbody>\n",
              "    <tr>\n",
              "      <th>10748</th>\n",
              "      <td>31-10-2022</td>\n",
              "      <td>98.150002</td>\n",
              "      <td>99.129997</td>\n",
              "      <td>5885600</td>\n",
              "      <td>99.500000</td>\n",
              "      <td>98.940002</td>\n",
              "      <td>98.940002</td>\n",
              "    </tr>\n",
              "    <tr>\n",
              "      <th>10749</th>\n",
              "      <td>01-11-2022</td>\n",
              "      <td>98.639999</td>\n",
              "      <td>99.620003</td>\n",
              "      <td>5249400</td>\n",
              "      <td>100.320000</td>\n",
              "      <td>99.309998</td>\n",
              "      <td>99.309998</td>\n",
              "    </tr>\n",
              "    <tr>\n",
              "      <th>10750</th>\n",
              "      <td>02-11-2022</td>\n",
              "      <td>98.019997</td>\n",
              "      <td>98.730003</td>\n",
              "      <td>5196700</td>\n",
              "      <td>101.230003</td>\n",
              "      <td>98.040001</td>\n",
              "      <td>98.040001</td>\n",
              "    </tr>\n",
              "    <tr>\n",
              "      <th>10751</th>\n",
              "      <td>03-11-2022</td>\n",
              "      <td>95.349998</td>\n",
              "      <td>96.809998</td>\n",
              "      <td>4873400</td>\n",
              "      <td>97.010002</td>\n",
              "      <td>96.449997</td>\n",
              "      <td>96.449997</td>\n",
              "    </tr>\n",
              "    <tr>\n",
              "      <th>10752</th>\n",
              "      <td>04-11-2022</td>\n",
              "      <td>96.150002</td>\n",
              "      <td>97.830002</td>\n",
              "      <td>4902800</td>\n",
              "      <td>98.230003</td>\n",
              "      <td>98.070000</td>\n",
              "      <td>98.070000</td>\n",
              "    </tr>\n",
              "    <tr>\n",
              "      <th>10753</th>\n",
              "      <td>07-11-2022</td>\n",
              "      <td>98.129997</td>\n",
              "      <td>98.779999</td>\n",
              "      <td>4903700</td>\n",
              "      <td>100.040001</td>\n",
              "      <td>99.500000</td>\n",
              "      <td>99.500000</td>\n",
              "    </tr>\n",
              "    <tr>\n",
              "      <th>10754</th>\n",
              "      <td>08-11-2022</td>\n",
              "      <td>98.949997</td>\n",
              "      <td>99.900002</td>\n",
              "      <td>5708200</td>\n",
              "      <td>100.260002</td>\n",
              "      <td>99.639999</td>\n",
              "      <td>99.639999</td>\n",
              "    </tr>\n",
              "    <tr>\n",
              "      <th>10755</th>\n",
              "      <td>09-11-2022</td>\n",
              "      <td>99.250000</td>\n",
              "      <td>99.910004</td>\n",
              "      <td>5339600</td>\n",
              "      <td>101.269997</td>\n",
              "      <td>99.459999</td>\n",
              "      <td>99.459999</td>\n",
              "    </tr>\n",
              "    <tr>\n",
              "      <th>10756</th>\n",
              "      <td>10-11-2022</td>\n",
              "      <td>102.139999</td>\n",
              "      <td>103.029999</td>\n",
              "      <td>5907400</td>\n",
              "      <td>104.440002</td>\n",
              "      <td>104.230003</td>\n",
              "      <td>104.230003</td>\n",
              "    </tr>\n",
              "    <tr>\n",
              "      <th>10757</th>\n",
              "      <td>11-11-2022</td>\n",
              "      <td>103.930000</td>\n",
              "      <td>104.639999</td>\n",
              "      <td>7106900</td>\n",
              "      <td>105.910004</td>\n",
              "      <td>104.089996</td>\n",
              "      <td>104.089996</td>\n",
              "    </tr>\n",
              "    <tr>\n",
              "      <th>10758</th>\n",
              "      <td>14-11-2022</td>\n",
              "      <td>101.989998</td>\n",
              "      <td>103.669998</td>\n",
              "      <td>5661600</td>\n",
              "      <td>104.309998</td>\n",
              "      <td>102.010002</td>\n",
              "      <td>102.010002</td>\n",
              "    </tr>\n",
              "    <tr>\n",
              "      <th>10759</th>\n",
              "      <td>15-11-2022</td>\n",
              "      <td>102.379997</td>\n",
              "      <td>103.449997</td>\n",
              "      <td>5262900</td>\n",
              "      <td>104.480003</td>\n",
              "      <td>103.139999</td>\n",
              "      <td>103.139999</td>\n",
              "    </tr>\n",
              "    <tr>\n",
              "      <th>10760</th>\n",
              "      <td>16-11-2022</td>\n",
              "      <td>103.260002</td>\n",
              "      <td>104.239998</td>\n",
              "      <td>3292800</td>\n",
              "      <td>105.300003</td>\n",
              "      <td>103.610001</td>\n",
              "      <td>103.610001</td>\n",
              "    </tr>\n",
              "    <tr>\n",
              "      <th>10761</th>\n",
              "      <td>17-11-2022</td>\n",
              "      <td>101.550003</td>\n",
              "      <td>102.669998</td>\n",
              "      <td>3332900</td>\n",
              "      <td>103.089996</td>\n",
              "      <td>102.559998</td>\n",
              "      <td>102.559998</td>\n",
              "    </tr>\n",
              "    <tr>\n",
              "      <th>10762</th>\n",
              "      <td>18-11-2022</td>\n",
              "      <td>102.940002</td>\n",
              "      <td>103.519997</td>\n",
              "      <td>3931800</td>\n",
              "      <td>104.190002</td>\n",
              "      <td>103.870003</td>\n",
              "      <td>103.870003</td>\n",
              "    </tr>\n",
              "    <tr>\n",
              "      <th>10763</th>\n",
              "      <td>21-11-2022</td>\n",
              "      <td>103.669998</td>\n",
              "      <td>103.730003</td>\n",
              "      <td>4148800</td>\n",
              "      <td>104.900002</td>\n",
              "      <td>103.879997</td>\n",
              "      <td>103.879997</td>\n",
              "    </tr>\n",
              "    <tr>\n",
              "      <th>10764</th>\n",
              "      <td>22-11-2022</td>\n",
              "      <td>102.870003</td>\n",
              "      <td>103.980003</td>\n",
              "      <td>4511700</td>\n",
              "      <td>105.000000</td>\n",
              "      <td>104.870003</td>\n",
              "      <td>104.870003</td>\n",
              "    </tr>\n",
              "    <tr>\n",
              "      <th>10765</th>\n",
              "      <td>23-11-2022</td>\n",
              "      <td>104.400002</td>\n",
              "      <td>104.970001</td>\n",
              "      <td>4617500</td>\n",
              "      <td>106.470001</td>\n",
              "      <td>106.019997</td>\n",
              "      <td>106.019997</td>\n",
              "    </tr>\n",
              "    <tr>\n",
              "      <th>10766</th>\n",
              "      <td>25-11-2022</td>\n",
              "      <td>106.510002</td>\n",
              "      <td>106.669998</td>\n",
              "      <td>2558100</td>\n",
              "      <td>107.349998</td>\n",
              "      <td>106.959999</td>\n",
              "      <td>106.959999</td>\n",
              "    </tr>\n",
              "    <tr>\n",
              "      <th>10767</th>\n",
              "      <td>28-11-2022</td>\n",
              "      <td>105.129997</td>\n",
              "      <td>106.720001</td>\n",
              "      <td>4149700</td>\n",
              "      <td>107.750000</td>\n",
              "      <td>105.389999</td>\n",
              "      <td>105.389999</td>\n",
              "    </tr>\n",
              "    <tr>\n",
              "      <th>10768</th>\n",
              "      <td>29-11-2022</td>\n",
              "      <td>104.480003</td>\n",
              "      <td>105.000000</td>\n",
              "      <td>4832300</td>\n",
              "      <td>105.379997</td>\n",
              "      <td>105.000000</td>\n",
              "      <td>105.000000</td>\n",
              "    </tr>\n",
              "    <tr>\n",
              "      <th>10769</th>\n",
              "      <td>30-11-2022</td>\n",
              "      <td>103.440002</td>\n",
              "      <td>105.129997</td>\n",
              "      <td>12737300</td>\n",
              "      <td>107.699997</td>\n",
              "      <td>107.580002</td>\n",
              "      <td>107.580002</td>\n",
              "    </tr>\n",
              "    <tr>\n",
              "      <th>10770</th>\n",
              "      <td>01-12-2022</td>\n",
              "      <td>107.349998</td>\n",
              "      <td>108.239998</td>\n",
              "      <td>5076200</td>\n",
              "      <td>108.650002</td>\n",
              "      <td>107.930000</td>\n",
              "      <td>107.930000</td>\n",
              "    </tr>\n",
              "    <tr>\n",
              "      <th>10771</th>\n",
              "      <td>02-12-2022</td>\n",
              "      <td>106.199997</td>\n",
              "      <td>106.750000</td>\n",
              "      <td>4944100</td>\n",
              "      <td>108.139999</td>\n",
              "      <td>108.089996</td>\n",
              "      <td>108.089996</td>\n",
              "    </tr>\n",
              "    <tr>\n",
              "      <th>10772</th>\n",
              "      <td>05-12-2022</td>\n",
              "      <td>105.059998</td>\n",
              "      <td>106.889999</td>\n",
              "      <td>4687100</td>\n",
              "      <td>107.059998</td>\n",
              "      <td>105.410004</td>\n",
              "      <td>105.410004</td>\n",
              "    </tr>\n",
              "    <tr>\n",
              "      <th>10773</th>\n",
              "      <td>06-12-2022</td>\n",
              "      <td>103.129997</td>\n",
              "      <td>104.989998</td>\n",
              "      <td>4175700</td>\n",
              "      <td>105.410004</td>\n",
              "      <td>103.860001</td>\n",
              "      <td>103.860001</td>\n",
              "    </tr>\n",
              "    <tr>\n",
              "      <th>10774</th>\n",
              "      <td>07-12-2022</td>\n",
              "      <td>104.019997</td>\n",
              "      <td>104.019997</td>\n",
              "      <td>3592400</td>\n",
              "      <td>105.489998</td>\n",
              "      <td>104.809998</td>\n",
              "      <td>104.809998</td>\n",
              "    </tr>\n",
              "    <tr>\n",
              "      <th>10775</th>\n",
              "      <td>08-12-2022</td>\n",
              "      <td>104.230003</td>\n",
              "      <td>104.660004</td>\n",
              "      <td>4607700</td>\n",
              "      <td>107.089996</td>\n",
              "      <td>106.919998</td>\n",
              "      <td>106.919998</td>\n",
              "    </tr>\n",
              "    <tr>\n",
              "      <th>10776</th>\n",
              "      <td>09-12-2022</td>\n",
              "      <td>106.449997</td>\n",
              "      <td>106.730003</td>\n",
              "      <td>5345400</td>\n",
              "      <td>108.480003</td>\n",
              "      <td>107.510002</td>\n",
              "      <td>107.510002</td>\n",
              "    </tr>\n",
              "    <tr>\n",
              "      <th>10777</th>\n",
              "      <td>12-12-2022</td>\n",
              "      <td>107.730003</td>\n",
              "      <td>107.730003</td>\n",
              "      <td>1279071</td>\n",
              "      <td>108.809998</td>\n",
              "      <td>108.680000</td>\n",
              "      <td>108.680000</td>\n",
              "    </tr>\n",
              "  </tbody>\n",
              "</table>\n",
              "</div>\n",
              "      <button class=\"colab-df-convert\" onclick=\"convertToInteractive('df-cb101eab-9931-4ae6-82e5-b66571e1c7b8')\"\n",
              "              title=\"Convert this dataframe to an interactive table.\"\n",
              "              style=\"display:none;\">\n",
              "        \n",
              "  <svg xmlns=\"http://www.w3.org/2000/svg\" height=\"24px\"viewBox=\"0 0 24 24\"\n",
              "       width=\"24px\">\n",
              "    <path d=\"M0 0h24v24H0V0z\" fill=\"none\"/>\n",
              "    <path d=\"M18.56 5.44l.94 2.06.94-2.06 2.06-.94-2.06-.94-.94-2.06-.94 2.06-2.06.94zm-11 1L8.5 8.5l.94-2.06 2.06-.94-2.06-.94L8.5 2.5l-.94 2.06-2.06.94zm10 10l.94 2.06.94-2.06 2.06-.94-2.06-.94-.94-2.06-.94 2.06-2.06.94z\"/><path d=\"M17.41 7.96l-1.37-1.37c-.4-.4-.92-.59-1.43-.59-.52 0-1.04.2-1.43.59L10.3 9.45l-7.72 7.72c-.78.78-.78 2.05 0 2.83L4 21.41c.39.39.9.59 1.41.59.51 0 1.02-.2 1.41-.59l7.78-7.78 2.81-2.81c.8-.78.8-2.07 0-2.86zM5.41 20L4 18.59l7.72-7.72 1.47 1.35L5.41 20z\"/>\n",
              "  </svg>\n",
              "      </button>\n",
              "      \n",
              "  <style>\n",
              "    .colab-df-container {\n",
              "      display:flex;\n",
              "      flex-wrap:wrap;\n",
              "      gap: 12px;\n",
              "    }\n",
              "\n",
              "    .colab-df-convert {\n",
              "      background-color: #E8F0FE;\n",
              "      border: none;\n",
              "      border-radius: 50%;\n",
              "      cursor: pointer;\n",
              "      display: none;\n",
              "      fill: #1967D2;\n",
              "      height: 32px;\n",
              "      padding: 0 0 0 0;\n",
              "      width: 32px;\n",
              "    }\n",
              "\n",
              "    .colab-df-convert:hover {\n",
              "      background-color: #E2EBFA;\n",
              "      box-shadow: 0px 1px 2px rgba(60, 64, 67, 0.3), 0px 1px 3px 1px rgba(60, 64, 67, 0.15);\n",
              "      fill: #174EA6;\n",
              "    }\n",
              "\n",
              "    [theme=dark] .colab-df-convert {\n",
              "      background-color: #3B4455;\n",
              "      fill: #D2E3FC;\n",
              "    }\n",
              "\n",
              "    [theme=dark] .colab-df-convert:hover {\n",
              "      background-color: #434B5C;\n",
              "      box-shadow: 0px 1px 3px 1px rgba(0, 0, 0, 0.15);\n",
              "      filter: drop-shadow(0px 1px 2px rgba(0, 0, 0, 0.3));\n",
              "      fill: #FFFFFF;\n",
              "    }\n",
              "  </style>\n",
              "\n",
              "      <script>\n",
              "        const buttonEl =\n",
              "          document.querySelector('#df-cb101eab-9931-4ae6-82e5-b66571e1c7b8 button.colab-df-convert');\n",
              "        buttonEl.style.display =\n",
              "          google.colab.kernel.accessAllowed ? 'block' : 'none';\n",
              "\n",
              "        async function convertToInteractive(key) {\n",
              "          const element = document.querySelector('#df-cb101eab-9931-4ae6-82e5-b66571e1c7b8');\n",
              "          const dataTable =\n",
              "            await google.colab.kernel.invokeFunction('convertToInteractive',\n",
              "                                                     [key], {});\n",
              "          if (!dataTable) return;\n",
              "\n",
              "          const docLinkHtml = 'Like what you see? Visit the ' +\n",
              "            '<a target=\"_blank\" href=https://colab.research.google.com/notebooks/data_table.ipynb>data table notebook</a>'\n",
              "            + ' to learn more about interactive tables.';\n",
              "          element.innerHTML = '';\n",
              "          dataTable['output_type'] = 'display_data';\n",
              "          await google.colab.output.renderOutput(dataTable, element);\n",
              "          const docLink = document.createElement('div');\n",
              "          docLink.innerHTML = docLinkHtml;\n",
              "          element.appendChild(docLink);\n",
              "        }\n",
              "      </script>\n",
              "    </div>\n",
              "  </div>\n",
              "  "
            ]
          },
          "metadata": {},
          "execution_count": 31
        }
      ]
    },
    {
      "cell_type": "code",
      "source": [
        "start=len(train)\n",
        "end=len(train)+len(test)-1\n",
        "#if the predicted values dont have date values as index, you will have to uncomment the following two commented lines to plot a graph\n",
        "#index_future_dates=pd.date_range(start='2018-12-01',end='2018-12-30')\n",
        "pred=model.predict(start=start,end=end,typ='levels').rename('ARIMA predictions')\n",
        "#pred.index=index_future_dates\n",
        "pred.plot(legend=True)\n",
        "test['Close'].plot(legend=True)"
      ],
      "metadata": {
        "colab": {
          "base_uri": "https://localhost:8080/",
          "height": 391
        },
        "id": "EPhKuc88oPxJ",
        "outputId": "1912b941-66f6-4217-91fb-d09eeb593ecc"
      },
      "execution_count": null,
      "outputs": [
        {
          "output_type": "execute_result",
          "data": {
            "text/plain": [
              "<matplotlib.axes._subplots.AxesSubplot at 0x7f2ffdfa6b50>"
            ]
          },
          "metadata": {},
          "execution_count": 40
        },
        {
          "output_type": "display_data",
          "data": {
            "text/plain": [
              "<Figure size 720x432 with 1 Axes>"
            ],
            "image/png": "[encoded data removed]"
          },
          "metadata": {}
        }
      ]
    },
    {
      "cell_type": "markdown",
      "source": [
        "# Evaluating the model"
      ],
      "metadata": {
        "id": "_BfrDLFcojia"
      }
    },
    {
      "cell_type": "code",
      "source": [
        "test['Close'].mean()"
      ],
      "metadata": {
        "colab": {
          "base_uri": "https://localhost:8080/"
        },
        "id": "TAkvHqm8olxv",
        "outputId": "6f00a64d-e8af-4b1a-a7da-fc0430014aed"
      },
      "execution_count": null,
      "outputs": [
        {
          "output_type": "execute_result",
          "data": {
            "text/plain": [
              "103.52766647338868"
            ]
          },
          "metadata": {},
          "execution_count": 33
        }
      ]
    },
    {
      "cell_type": "code",
      "source": [
        "from sklearn.metrics import mean_squared_error\n",
        "from math import sqrt\n",
        "rmse=sqrt(mean_squared_error(pred,test['Close']))\n",
        "print(rmse)\n"
      ],
      "metadata": {
        "colab": {
          "base_uri": "https://localhost:8080/"
        },
        "id": "oQXrAWyYomMO",
        "outputId": "c75dc424-ad80-454d-a0f5-3ecd201d24f7"
      },
      "execution_count": null,
      "outputs": [
        {
          "output_type": "stream",
          "name": "stdout",
          "text": [
            "5.540648238479269\n"
          ]
        }
      ]
    }
  ]
}